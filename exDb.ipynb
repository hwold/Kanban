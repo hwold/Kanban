{
 "cells": [
  {
   "cell_type": "code",
   "execution_count": 28,
   "metadata": {},
   "outputs": [],
   "source": [
    "import pandas as pd\n",
    "from sqlalchemy.sql import text\n",
    "from sqlalchemy.exc import SQLAlchemyError\n",
    "import requests\n",
    "import urllib.parse\n",
    "from sqlalchemy import create_engine, Table, MetaData, Column, String, DateTime, Integer, Float"
   ]
  },
  {
   "cell_type": "code",
   "execution_count": 29,
   "metadata": {},
   "outputs": [],
   "source": [
    "def get_database_engine():\n",
    "  print('EXECUTANDO NO BANCO DE PROD!')\n",
    "  username = 'svc_p_ito_01'\n",
    "  password = urllib.parse.quote('_c4u_6_XHE4y1@Cg')\n",
    "  server = 'SQLPRD0007AG'\n",
    "  port = 8000\n",
    "  database = 'dbsgdt1'\n",
    "  # print(f'DB: Usuário: \"{username}\", Password: \"{password}\", Server: \"{server}\", Porta: \"{port}\", Database: \"{database}\"')\n",
    "  connection_string = f'mssql+pymssql://{username}:{password}@{server}:{port}/{database}?charset=utf8'\n",
    "  engine = create_engine(connection_string)\n",
    "  return engine\n"
   ]
  },
  {
   "cell_type": "code",
   "execution_count": 30,
   "metadata": {},
   "outputs": [
    {
     "name": "stdout",
     "output_type": "stream",
     "text": [
      "EXECUTANDO NO BANCO DE PROD!\n"
     ]
    }
   ],
   "source": [
    "engine = get_database_engine()\n",
    "metadata = MetaData()"
   ]
  },
  {
   "cell_type": "code",
   "execution_count": 31,
   "metadata": {},
   "outputs": [],
   "source": [
    "\n",
    "# Função para obter dados de uma API e transformar em DataFrame\n",
    "def obter_dados_da_api(url_api):\n",
    "   response = requests.get(url_api)\n",
    "   if response.status_code == 200:\n",
    "       dados_json = response.json()\n",
    "       df = pd.json_normalize(dados_json)\n",
    "       return df\n",
    "   else:\n",
    "       print(f\"Erro ao acessar a API: {response.status_code}\")\n",
    "       return None"
   ]
  },
  {
   "cell_type": "code",
   "execution_count": 32,
   "metadata": {},
   "outputs": [],
   "source": [
    "# Função para aplicar filtros de data e categoria no DataFrame\n",
    "def aplicar_filtros(df, filtro_data=None, coluna_data=None, filtro_categoria=None, coluna_categoria=None):\n",
    "   # Aplicar filtro de data, se fornecido\n",
    "   if filtro_data and coluna_data:\n",
    "       df[coluna_data] = pd.to_datetime(df[coluna_data], errors='coerce')  # Garantir que a coluna é datetime\n",
    "       df = df[df[coluna_data] > filtro_data]\n",
    "       print(f\"Filtro de data aplicado: {filtro_data} - Total de registros: {len(df)}\")\n",
    "   # Aplicar filtro de categoria, se fornecido\n",
    "   if filtro_categoria and coluna_categoria:\n",
    "       df = df[df[coluna_categoria] == filtro_categoria]\n",
    "       print(f\"Filtro de categoria aplicado: {filtro_categoria} - Total de registros: {len(df)}\")\n",
    "   return df"
   ]
  },
  {
   "cell_type": "code",
   "execution_count": 33,
   "metadata": {},
   "outputs": [],
   "source": [
    "# Função para criar um índice nas colunas de chave\n",
    "def criar_indice(conn, tabela_nome, colunas_indice):\n",
    "   conn = engine.connect()\n",
    "   try:\n",
    "       nome_indice = f\"idx_{'_'.join(colunas_indice)}\"\n",
    "       verificar_indice_query = text(f\"\"\"\n",
    "           SELECT COUNT(*)\n",
    "           FROM sys.indexes\n",
    "           WHERE name = '{nome_indice}'\n",
    "           AND object_id = OBJECT_ID('{tabela_nome}');\n",
    "       \"\"\")\n",
    "       resultado = conn.execute(verificar_indice_query).scalar()\n",
    "       if resultado == 0:\n",
    "           criar_indice_query = text(f\"\"\"\n",
    "               CREATE INDEX {nome_indice}\n",
    "               ON {tabela_nome} ({', '.join([f'[{col}]' for col in colunas_indice])});\n",
    "           \"\"\")\n",
    "           conn.execute(criar_indice_query)\n",
    "           print(f\"Índice {nome_indice} criado com sucesso.\")\n",
    "       else:\n",
    "           print(f\"Índice {nome_indice} já existe.\")\n",
    "   except SQLAlchemyError as e:\n",
    "       print(f\"Erro ao criar o índice: {e}\")"
   ]
  },
  {
   "cell_type": "code",
   "execution_count": 34,
   "metadata": {},
   "outputs": [],
   "source": [
    "# Função para criar a tabela com tipos de dados definidos, se necessário\n",
    "def criar_tabela(df, tabela_nome, tipos_colunas):\n",
    "   columns = []\n",
    "   for column_name in df.columns:\n",
    "       if column_name in tipos_colunas:\n",
    "           tipo = tipos_colunas[column_name]\n",
    "       else:\n",
    "           tipo = String  # Tipo padrão como String\n",
    "       columns.append(Column(column_name, tipo))\n",
    "   # Aqui criamos a tabela com as colunas definidas\n",
    "   table = Table(tabela_nome, metadata, *columns, extend_existing=True)\n",
    "   metadata.create_all(engine)  # Cria a tabela no banco de dados se não existir"
   ]
  },
  {
   "cell_type": "code",
   "execution_count": 35,
   "metadata": {},
   "outputs": [],
   "source": [
    "# Função para realizar o merge dos dados com inserção e atualização em lote\n",
    "def merge_dados_em_lote(df, tabela_nome, chave_unica, batch_size=1000, tipos_colunas=None):\n",
    "   try:\n",
    "    #    df.columns = df.columns.str.replace(' ', '_')\n",
    "       conn = engine.connect()\n",
    "        #criar_indice(conn, tabela_nome, chave_unica)\n",
    "       # Criar a tabela se ainda não existir e aplicar os tipos de colunas definidos\n",
    "       if tipos_colunas:\n",
    "           criar_tabela(df, tabela_nome, tipos_colunas)\n",
    "       total_registros = len(df)\n",
    "       for start in range(0, total_registros, batch_size):\n",
    "           batch_df = df.iloc[start:start + batch_size]\n",
    "           trans = conn.begin()\n",
    "           for index, row in batch_df.iterrows():\n",
    "               chave_clause = \" AND \".join([f\"target.[{col}] = :{col}\" for col in chave_unica])\n",
    "               update_clause = \", \".join([f\"target.[{col}] = source.[{col}]\" for col in df.columns if col not in chave_unica])\n",
    "               insert_columns = \", \".join([f\"[{col}]\" for col in df.columns])\n",
    "               insert_values = \", \".join([f\"source.[{col}]\" for col in df.columns])\n",
    "               merge_query = text(f\"\"\"\n",
    "                   MERGE INTO {tabela_nome} AS target\n",
    "                   USING (SELECT :{', :'.join(df.columns)}) AS source({', '.join(df.columns)})\n",
    "                   ON {chave_clause}\n",
    "                   WHEN MATCHED THEN\n",
    "                       UPDATE SET {update_clause}\n",
    "                   WHEN NOT MATCHED THEN\n",
    "                       INSERT ({insert_columns}) VALUES ({insert_values});\n",
    "               \"\"\")\n",
    "               conn.execute(merge_query, row.to_dict())\n",
    "           trans.commit()\n",
    "           print(f\"Lote {start // batch_size + 1} processado com sucesso ({min(start + batch_size, total_registros)} de {total_registros} registros).\")\n",
    "       print(f\"Merge de dados na tabela '{tabela_nome}' concluído com sucesso.\")\n",
    "   except SQLAlchemyError as e:\n",
    "       trans.rollback()\n",
    "       print(f\"Erro ao realizar o merge de dados: {e}\")\n",
    "   finally:\n",
    "       conn.close()\n",
    "# Função principal para processar os dados e enviar ao banco"
   ]
  },
  {
   "cell_type": "code",
   "execution_count": 36,
   "metadata": {},
   "outputs": [
    {
     "ename": "KeyError",
     "evalue": "'SCCM Last Communnication'",
     "output_type": "error",
     "traceback": [
      "\u001b[1;31m---------------------------------------------------------------------------\u001b[0m",
      "\u001b[1;31mKeyError\u001b[0m                                  Traceback (most recent call last)",
      "File \u001b[1;32m~\\AppData\\Roaming\\Python\\Python312\\site-packages\\pandas\\core\\indexes\\base.py:3805\u001b[0m, in \u001b[0;36mIndex.get_loc\u001b[1;34m(self, key)\u001b[0m\n\u001b[0;32m   3804\u001b[0m \u001b[38;5;28;01mtry\u001b[39;00m:\n\u001b[1;32m-> 3805\u001b[0m     \u001b[38;5;28;01mreturn\u001b[39;00m \u001b[38;5;28;43mself\u001b[39;49m\u001b[38;5;241;43m.\u001b[39;49m\u001b[43m_engine\u001b[49m\u001b[38;5;241;43m.\u001b[39;49m\u001b[43mget_loc\u001b[49m\u001b[43m(\u001b[49m\u001b[43mcasted_key\u001b[49m\u001b[43m)\u001b[49m\n\u001b[0;32m   3806\u001b[0m \u001b[38;5;28;01mexcept\u001b[39;00m \u001b[38;5;167;01mKeyError\u001b[39;00m \u001b[38;5;28;01mas\u001b[39;00m err:\n",
      "File \u001b[1;32mindex.pyx:167\u001b[0m, in \u001b[0;36mpandas._libs.index.IndexEngine.get_loc\u001b[1;34m()\u001b[0m\n",
      "File \u001b[1;32mindex.pyx:196\u001b[0m, in \u001b[0;36mpandas._libs.index.IndexEngine.get_loc\u001b[1;34m()\u001b[0m\n",
      "File \u001b[1;32mpandas\\\\_libs\\\\hashtable_class_helper.pxi:7081\u001b[0m, in \u001b[0;36mpandas._libs.hashtable.PyObjectHashTable.get_item\u001b[1;34m()\u001b[0m\n",
      "File \u001b[1;32mpandas\\\\_libs\\\\hashtable_class_helper.pxi:7089\u001b[0m, in \u001b[0;36mpandas._libs.hashtable.PyObjectHashTable.get_item\u001b[1;34m()\u001b[0m\n",
      "\u001b[1;31mKeyError\u001b[0m: 'SCCM Last Communnication'",
      "\nThe above exception was the direct cause of the following exception:\n",
      "\u001b[1;31mKeyError\u001b[0m                                  Traceback (most recent call last)",
      "Cell \u001b[1;32mIn[36], line 22\u001b[0m\n\u001b[0;32m     14\u001b[0m \u001b[38;5;66;03m# Exemplo de uso com definição de tipos de dados\u001b[39;00m\n\u001b[0;32m     15\u001b[0m tipos_colunas \u001b[38;5;241m=\u001b[39m {\n\u001b[0;32m     16\u001b[0m     \u001b[38;5;124m\"\u001b[39m\u001b[38;5;124mHostname\u001b[39m\u001b[38;5;124m\"\u001b[39m: String,\n\u001b[0;32m     17\u001b[0m     \u001b[38;5;124m\"\u001b[39m\u001b[38;5;124mDomain\u001b[39m\u001b[38;5;124m\"\u001b[39m: String,\n\u001b[1;32m   (...)\u001b[0m\n\u001b[0;32m     20\u001b[0m     \u001b[38;5;124m\"\u001b[39m\u001b[38;5;124mSCCM Client Version\u001b[39m\u001b[38;5;124m\"\u001b[39m: String,  \u001b[38;5;66;03m# Definindo a coluna como datetime\u001b[39;00m\n\u001b[0;32m     21\u001b[0m }\n\u001b[1;32m---> 22\u001b[0m \u001b[43mprocessar_dados\u001b[49m\u001b[43m(\u001b[49m\n\u001b[0;32m     23\u001b[0m \u001b[43m   \u001b[49m\u001b[43morigem\u001b[49m\u001b[38;5;241;43m=\u001b[39;49m\u001b[38;5;124;43mr\u001b[39;49m\u001b[38;5;124;43m\"\u001b[39;49m\u001b[38;5;124;43mC:\u001b[39;49m\u001b[38;5;124;43m\\\u001b[39;49m\u001b[38;5;124;43mUsers\u001b[39;49m\u001b[38;5;124;43m\\\u001b[39;49m\u001b[38;5;124;43mt781646\u001b[39;49m\u001b[38;5;124;43m\\\u001b[39;49m\u001b[38;5;124;43mDownloads\u001b[39;49m\u001b[38;5;124;43m\\\u001b[39;49m\u001b[38;5;124;43mdata (8).xlsx\u001b[39;49m\u001b[38;5;124;43m\"\u001b[39;49m\u001b[43m,\u001b[49m\n\u001b[0;32m     24\u001b[0m \u001b[43m   \u001b[49m\u001b[43mtipo_origem\u001b[49m\u001b[38;5;241;43m=\u001b[39;49m\u001b[38;5;124;43m\"\u001b[39;49m\u001b[38;5;124;43marquivo\u001b[39;49m\u001b[38;5;124;43m\"\u001b[39;49m\u001b[43m,\u001b[49m\n\u001b[0;32m     25\u001b[0m \u001b[43m   \u001b[49m\u001b[43mtabela_nome\u001b[49m\u001b[38;5;241;43m=\u001b[39;49m\u001b[38;5;124;43m\"\u001b[39;49m\u001b[38;5;124;43mcmdb_servidores_windows\u001b[39;49m\u001b[38;5;124;43m\"\u001b[39;49m\u001b[43m,\u001b[49m\n\u001b[0;32m     26\u001b[0m \u001b[43m   \u001b[49m\u001b[43mchave_unica\u001b[49m\u001b[38;5;241;43m=\u001b[39;49m\u001b[43m[\u001b[49m\u001b[38;5;124;43m\"\u001b[39;49m\u001b[38;5;124;43mHostname\u001b[39;49m\u001b[38;5;124;43m\"\u001b[39;49m\u001b[43m]\u001b[49m\u001b[43m,\u001b[49m\n\u001b[0;32m     27\u001b[0m \u001b[43m   \u001b[49m\u001b[43mbatch_size\u001b[49m\u001b[38;5;241;43m=\u001b[39;49m\u001b[38;5;241;43m500\u001b[39;49m\u001b[43m,\u001b[49m\n\u001b[0;32m     28\u001b[0m \u001b[43m   \u001b[49m\u001b[43mfiltro_data\u001b[49m\u001b[38;5;241;43m=\u001b[39;49m\u001b[38;5;124;43m\"\u001b[39;49m\u001b[38;5;124;43m2024-09-01\u001b[39;49m\u001b[38;5;124;43m\"\u001b[39;49m\u001b[43m,\u001b[49m\n\u001b[0;32m     29\u001b[0m \u001b[43m   \u001b[49m\u001b[43mcoluna_data\u001b[49m\u001b[38;5;241;43m=\u001b[39;49m\u001b[38;5;124;43m\"\u001b[39;49m\u001b[38;5;124;43mSCCM Last Communnication\u001b[39;49m\u001b[38;5;124;43m\"\u001b[39;49m\u001b[43m,\u001b[49m\n\u001b[0;32m     30\u001b[0m \u001b[38;5;66;43;03m#    filtro_categoria=\"categoria_a\",\u001b[39;49;00m\n\u001b[0;32m     31\u001b[0m \u001b[38;5;66;43;03m#    coluna_categoria=\"categoria\",\u001b[39;49;00m\n\u001b[0;32m     32\u001b[0m \u001b[43m   \u001b[49m\u001b[43mtipos_colunas\u001b[49m\u001b[38;5;241;43m=\u001b[39;49m\u001b[43mtipos_colunas\u001b[49m\n\u001b[0;32m     33\u001b[0m \u001b[43m)\u001b[49m\n",
      "Cell \u001b[1;32mIn[36], line 12\u001b[0m, in \u001b[0;36mprocessar_dados\u001b[1;34m(origem, tipo_origem, tabela_nome, chave_unica, batch_size, filtro_data, coluna_data, filtro_categoria, coluna_categoria, tipos_colunas)\u001b[0m\n\u001b[0;32m     10\u001b[0m df\u001b[38;5;241m.\u001b[39mdropna(how\u001b[38;5;241m=\u001b[39m\u001b[38;5;124m'\u001b[39m\u001b[38;5;124mall\u001b[39m\u001b[38;5;124m'\u001b[39m, inplace\u001b[38;5;241m=\u001b[39m\u001b[38;5;28;01mTrue\u001b[39;00m)\n\u001b[0;32m     11\u001b[0m df\u001b[38;5;241m.\u001b[39mcolumns \u001b[38;5;241m=\u001b[39m df\u001b[38;5;241m.\u001b[39mcolumns\u001b[38;5;241m.\u001b[39mstr\u001b[38;5;241m.\u001b[39mreplace(\u001b[38;5;124m'\u001b[39m\u001b[38;5;124m \u001b[39m\u001b[38;5;124m'\u001b[39m, \u001b[38;5;124m'\u001b[39m\u001b[38;5;124m_\u001b[39m\u001b[38;5;124m'\u001b[39m)\n\u001b[1;32m---> 12\u001b[0m df \u001b[38;5;241m=\u001b[39m \u001b[43maplicar_filtros\u001b[49m\u001b[43m(\u001b[49m\u001b[43mdf\u001b[49m\u001b[43m,\u001b[49m\u001b[43m \u001b[49m\u001b[43mfiltro_data\u001b[49m\u001b[38;5;241;43m=\u001b[39;49m\u001b[43mfiltro_data\u001b[49m\u001b[43m,\u001b[49m\u001b[43m \u001b[49m\u001b[43mcoluna_data\u001b[49m\u001b[38;5;241;43m=\u001b[39;49m\u001b[43mcoluna_data\u001b[49m\u001b[43m,\u001b[49m\u001b[43m \u001b[49m\u001b[43mfiltro_categoria\u001b[49m\u001b[38;5;241;43m=\u001b[39;49m\u001b[43mfiltro_categoria\u001b[49m\u001b[43m,\u001b[49m\u001b[43m \u001b[49m\u001b[43mcoluna_categoria\u001b[49m\u001b[38;5;241;43m=\u001b[39;49m\u001b[43mcoluna_categoria\u001b[49m\u001b[43m)\u001b[49m\n\u001b[0;32m     13\u001b[0m merge_dados_em_lote(df, tabela_nome, chave_unica, batch_size, tipos_colunas)\n",
      "Cell \u001b[1;32mIn[32], line 5\u001b[0m, in \u001b[0;36maplicar_filtros\u001b[1;34m(df, filtro_data, coluna_data, filtro_categoria, coluna_categoria)\u001b[0m\n\u001b[0;32m      2\u001b[0m \u001b[38;5;28;01mdef\u001b[39;00m \u001b[38;5;21maplicar_filtros\u001b[39m(df, filtro_data\u001b[38;5;241m=\u001b[39m\u001b[38;5;28;01mNone\u001b[39;00m, coluna_data\u001b[38;5;241m=\u001b[39m\u001b[38;5;28;01mNone\u001b[39;00m, filtro_categoria\u001b[38;5;241m=\u001b[39m\u001b[38;5;28;01mNone\u001b[39;00m, coluna_categoria\u001b[38;5;241m=\u001b[39m\u001b[38;5;28;01mNone\u001b[39;00m):\n\u001b[0;32m      3\u001b[0m    \u001b[38;5;66;03m# Aplicar filtro de data, se fornecido\u001b[39;00m\n\u001b[0;32m      4\u001b[0m    \u001b[38;5;28;01mif\u001b[39;00m filtro_data \u001b[38;5;129;01mand\u001b[39;00m coluna_data:\n\u001b[1;32m----> 5\u001b[0m        df[coluna_data] \u001b[38;5;241m=\u001b[39m pd\u001b[38;5;241m.\u001b[39mto_datetime(\u001b[43mdf\u001b[49m\u001b[43m[\u001b[49m\u001b[43mcoluna_data\u001b[49m\u001b[43m]\u001b[49m, errors\u001b[38;5;241m=\u001b[39m\u001b[38;5;124m'\u001b[39m\u001b[38;5;124mcoerce\u001b[39m\u001b[38;5;124m'\u001b[39m)  \u001b[38;5;66;03m# Garantir que a coluna é datetime\u001b[39;00m\n\u001b[0;32m      6\u001b[0m        df \u001b[38;5;241m=\u001b[39m df[df[coluna_data] \u001b[38;5;241m>\u001b[39m filtro_data]\n\u001b[0;32m      7\u001b[0m        \u001b[38;5;28mprint\u001b[39m(\u001b[38;5;124mf\u001b[39m\u001b[38;5;124m\"\u001b[39m\u001b[38;5;124mFiltro de data aplicado: \u001b[39m\u001b[38;5;132;01m{\u001b[39;00mfiltro_data\u001b[38;5;132;01m}\u001b[39;00m\u001b[38;5;124m - Total de registros: \u001b[39m\u001b[38;5;132;01m{\u001b[39;00m\u001b[38;5;28mlen\u001b[39m(df)\u001b[38;5;132;01m}\u001b[39;00m\u001b[38;5;124m\"\u001b[39m)\n",
      "File \u001b[1;32m~\\AppData\\Roaming\\Python\\Python312\\site-packages\\pandas\\core\\frame.py:4102\u001b[0m, in \u001b[0;36mDataFrame.__getitem__\u001b[1;34m(self, key)\u001b[0m\n\u001b[0;32m   4100\u001b[0m \u001b[38;5;28;01mif\u001b[39;00m \u001b[38;5;28mself\u001b[39m\u001b[38;5;241m.\u001b[39mcolumns\u001b[38;5;241m.\u001b[39mnlevels \u001b[38;5;241m>\u001b[39m \u001b[38;5;241m1\u001b[39m:\n\u001b[0;32m   4101\u001b[0m     \u001b[38;5;28;01mreturn\u001b[39;00m \u001b[38;5;28mself\u001b[39m\u001b[38;5;241m.\u001b[39m_getitem_multilevel(key)\n\u001b[1;32m-> 4102\u001b[0m indexer \u001b[38;5;241m=\u001b[39m \u001b[38;5;28;43mself\u001b[39;49m\u001b[38;5;241;43m.\u001b[39;49m\u001b[43mcolumns\u001b[49m\u001b[38;5;241;43m.\u001b[39;49m\u001b[43mget_loc\u001b[49m\u001b[43m(\u001b[49m\u001b[43mkey\u001b[49m\u001b[43m)\u001b[49m\n\u001b[0;32m   4103\u001b[0m \u001b[38;5;28;01mif\u001b[39;00m is_integer(indexer):\n\u001b[0;32m   4104\u001b[0m     indexer \u001b[38;5;241m=\u001b[39m [indexer]\n",
      "File \u001b[1;32m~\\AppData\\Roaming\\Python\\Python312\\site-packages\\pandas\\core\\indexes\\base.py:3812\u001b[0m, in \u001b[0;36mIndex.get_loc\u001b[1;34m(self, key)\u001b[0m\n\u001b[0;32m   3807\u001b[0m     \u001b[38;5;28;01mif\u001b[39;00m \u001b[38;5;28misinstance\u001b[39m(casted_key, \u001b[38;5;28mslice\u001b[39m) \u001b[38;5;129;01mor\u001b[39;00m (\n\u001b[0;32m   3808\u001b[0m         \u001b[38;5;28misinstance\u001b[39m(casted_key, abc\u001b[38;5;241m.\u001b[39mIterable)\n\u001b[0;32m   3809\u001b[0m         \u001b[38;5;129;01mand\u001b[39;00m \u001b[38;5;28many\u001b[39m(\u001b[38;5;28misinstance\u001b[39m(x, \u001b[38;5;28mslice\u001b[39m) \u001b[38;5;28;01mfor\u001b[39;00m x \u001b[38;5;129;01min\u001b[39;00m casted_key)\n\u001b[0;32m   3810\u001b[0m     ):\n\u001b[0;32m   3811\u001b[0m         \u001b[38;5;28;01mraise\u001b[39;00m InvalidIndexError(key)\n\u001b[1;32m-> 3812\u001b[0m     \u001b[38;5;28;01mraise\u001b[39;00m \u001b[38;5;167;01mKeyError\u001b[39;00m(key) \u001b[38;5;28;01mfrom\u001b[39;00m \u001b[38;5;21;01merr\u001b[39;00m\n\u001b[0;32m   3813\u001b[0m \u001b[38;5;28;01mexcept\u001b[39;00m \u001b[38;5;167;01mTypeError\u001b[39;00m:\n\u001b[0;32m   3814\u001b[0m     \u001b[38;5;66;03m# If we have a listlike key, _check_indexing_error will raise\u001b[39;00m\n\u001b[0;32m   3815\u001b[0m     \u001b[38;5;66;03m#  InvalidIndexError. Otherwise we fall through and re-raise\u001b[39;00m\n\u001b[0;32m   3816\u001b[0m     \u001b[38;5;66;03m#  the TypeError.\u001b[39;00m\n\u001b[0;32m   3817\u001b[0m     \u001b[38;5;28mself\u001b[39m\u001b[38;5;241m.\u001b[39m_check_indexing_error(key)\n",
      "\u001b[1;31mKeyError\u001b[0m: 'SCCM Last Communnication'"
     ]
    }
   ],
   "source": [
    "def processar_dados(origem, tipo_origem, tabela_nome, chave_unica, batch_size=1000, filtro_data=None, coluna_data=None, filtro_categoria=None, coluna_categoria=None, tipos_colunas=None):\n",
    "   if tipo_origem == 'arquivo':\n",
    "       df = pd.read_excel(origem)  # Ou pd.read_csv() dependendo do tipo do arquivo\n",
    "   elif tipo_origem == 'api':\n",
    "       df = obter_dados_da_api(origem)\n",
    "   else:\n",
    "       print(\"Tipo de origem desconhecido.\")\n",
    "       return\n",
    "   if df is not None:\n",
    "       df.dropna(how='all', inplace=True)\n",
    "       df.columns = df.columns.str.replace(' ', '_')\n",
    "       df = aplicar_filtros(df, filtro_data=filtro_data, coluna_data=coluna_data, filtro_categoria=filtro_categoria, coluna_categoria=coluna_categoria)\n",
    "       merge_dados_em_lote(df, tabela_nome, chave_unica, batch_size, tipos_colunas)\n",
    "# Exemplo de uso com definição de tipos de dados\n",
    "tipos_colunas = {\n",
    "    \"Hostname\": String,\n",
    "    \"Domain\": String,\n",
    "    \"OS Version\": String,\n",
    "    \"SCCM Last Communnication\": DateTime,\n",
    "    \"SCCM Client Version\": String,  # Definindo a coluna como datetime\n",
    "}\n",
    "processar_dados(\n",
    "   origem=r\"C:\\Users\\t781646\\Downloads\\data (8).xlsx\",\n",
    "   tipo_origem=\"arquivo\",\n",
    "   tabela_nome=\"cmdb_servidores_windows\",\n",
    "   chave_unica=[\"Hostname\"],\n",
    "   batch_size=500,\n",
    "   filtro_data=\"2024-09-01\",\n",
    "   coluna_data=\"SCCM Last Communnication\",\n",
    "#    filtro_categoria=\"categoria_a\",\n",
    "#    coluna_categoria=\"categoria\",\n",
    "   tipos_colunas=tipos_colunas\n",
    ")"
   ]
  }
 ],
 "metadata": {
  "kernelspec": {
   "display_name": "Python 3",
   "language": "python",
   "name": "python3"
  },
  "language_info": {
   "codemirror_mode": {
    "name": "ipython",
    "version": 3
   },
   "file_extension": ".py",
   "mimetype": "text/x-python",
   "name": "python",
   "nbconvert_exporter": "python",
   "pygments_lexer": "ipython3",
   "version": "3.12.5"
  }
 },
 "nbformat": 4,
 "nbformat_minor": 2
}
